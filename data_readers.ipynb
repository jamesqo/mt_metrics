{
 "cells": [
  {
   "cell_type": "code",
   "execution_count": 1,
   "metadata": {},
   "outputs": [
    {
     "name": "stderr",
     "output_type": "stream",
     "text": [
      "/home/jwei/miniconda3/lib/python3.6/importlib/_bootstrap.py:219: RuntimeWarning: numpy.dtype size changed, may indicate binary incompatibility. Expected 96, got 88\n",
      "  return f(*args, **kwds)\n",
      "/home/jwei/miniconda3/lib/python3.6/importlib/_bootstrap.py:219: RuntimeWarning: numpy.dtype size changed, may indicate binary incompatibility. Expected 96, got 88\n",
      "  return f(*args, **kwds)\n"
     ]
    }
   ],
   "source": [
    "import glob\n",
    "import csv\n",
    "import pandas as pd"
   ]
  },
  {
   "cell_type": "markdown",
   "metadata": {},
   "source": [
    "### Aggregate dev data (2015, 2016)"
   ]
  },
  {
   "cell_type": "code",
   "execution_count": 2,
   "metadata": {},
   "outputs": [
    {
     "name": "stdout",
     "output_type": "stream",
     "text": [
      "./dev/2015/DAseg-wmt-newstest2015/DAseg.newstest2015.human.en-ru\n",
      "./dev/2015/DAseg-wmt-newstest2015/DAseg.newstest2015.human.fi-en\n",
      "./dev/2015/DAseg-wmt-newstest2015/DAseg.newstest2015.human.cs-en\n",
      "./dev/2015/DAseg-wmt-newstest2015/DAseg.newstest2015.human.de-en\n",
      "./dev/2015/DAseg-wmt-newstest2015/DAseg.newstest2015.human.ru-en\n",
      "./dev/2016/DAseg-wmt-newstest2016/DAseg.newstest2016.human.tr-en\n",
      "./dev/2016/DAseg-wmt-newstest2016/DAseg.newstest2016.human.ru-en\n",
      "./dev/2016/DAseg-wmt-newstest2016/DAseg.newstest2016.human.cs-en\n",
      "./dev/2016/DAseg-wmt-newstest2016/DAseg.newstest2016.human.de-en\n",
      "./dev/2016/DAseg-wmt-newstest2016/DAseg.newstest2016.human.fi-en\n",
      "./dev/2016/DAseg-wmt-newstest2016/DAseg.newstest2016.human.ro-en\n",
      "./dev/2016/DAseg-wmt-newstest2016/DAseg.newstest2016.human.en-ru\n"
     ]
    }
   ],
   "source": [
    "da = glob.glob('./dev/*/*/*.human.*')\n",
    "print('\\n'.join(da))"
   ]
  },
  {
   "cell_type": "code",
   "execution_count": 3,
   "metadata": {},
   "outputs": [
    {
     "name": "stdout",
     "output_type": "stream",
     "text": [
      "Processing newstest2015, en-ru...\n",
      "Processing newstest2015, fi-en...\n",
      "Processing newstest2015, cs-en...\n",
      "Processing newstest2015, de-en...\n",
      "Processing newstest2015, ru-en...\n",
      "Processing newstest2016, tr-en...\n",
      "Processing newstest2016, ru-en...\n",
      "Processing newstest2016, cs-en...\n",
      "Processing newstest2016, de-en...\n",
      "Processing newstest2016, fi-en...\n",
      "Processing newstest2016, ro-en...\n",
      "Processing newstest2016, en-ru...\n"
     ]
    }
   ],
   "source": [
    "cols = ['human', 'mt-system', 'reference', 'source']\n",
    "data = { 'src':[], 'trg':[], 'set':[], 'source':[], 'reference':[], 'mt-system':[], 'human':[] }\n",
    "\n",
    "for rating in da:\n",
    "    attr = rating.split('.')\n",
    "    lp = attr[-1]\n",
    "    test_set = attr[-3]\n",
    "    print('Processing %s, %s...' % (test_set, lp))\n",
    "    \n",
    "    length = len(list(open(rating, 'rt')))\n",
    "    \n",
    "    data['src'].extend(length * [lp[:2]])\n",
    "    data['trg'].extend(length * [lp[3:]])\n",
    "    data['set'].extend(length * [test_set])\n",
    "    \n",
    "    for col in cols:\n",
    "        attr[-2] = col\n",
    "        path = '.'.join(attr)\n",
    "        \n",
    "        data[col].extend([ i.strip() for i in open(path, 'rt') ])"
   ]
  },
  {
   "cell_type": "code",
   "execution_count": 4,
   "metadata": {},
   "outputs": [
    {
     "data": {
      "text/html": [
       "<div>\n",
       "<style scoped>\n",
       "    .dataframe tbody tr th:only-of-type {\n",
       "        vertical-align: middle;\n",
       "    }\n",
       "\n",
       "    .dataframe tbody tr th {\n",
       "        vertical-align: top;\n",
       "    }\n",
       "\n",
       "    .dataframe thead th {\n",
       "        text-align: right;\n",
       "    }\n",
       "</style>\n",
       "<table border=\"1\" class=\"dataframe\">\n",
       "  <thead>\n",
       "    <tr style=\"text-align: right;\">\n",
       "      <th></th>\n",
       "      <th>src</th>\n",
       "      <th>trg</th>\n",
       "      <th>set</th>\n",
       "      <th>source</th>\n",
       "      <th>reference</th>\n",
       "      <th>mt-system</th>\n",
       "      <th>human</th>\n",
       "    </tr>\n",
       "  </thead>\n",
       "  <tbody>\n",
       "    <tr>\n",
       "      <th>0</th>\n",
       "      <td>en</td>\n",
       "      <td>ru</td>\n",
       "      <td>newstest2015</td>\n",
       "      <td>\"It's not unexpected, but it is still infuriat...</td>\n",
       "      <td>\"Это не обмануло наши ожидания, но все-таки пр...</td>\n",
       "      <td>\"Это не неожиданное, но это все еще меня бесиш...</td>\n",
       "      <td>-0.404580</td>\n",
       "    </tr>\n",
       "    <tr>\n",
       "      <th>1</th>\n",
       "      <td>en</td>\n",
       "      <td>ru</td>\n",
       "      <td>newstest2015</td>\n",
       "      <td>We're excited to be answering this demand by l...</td>\n",
       "      <td>Мы рады отреагировать на такой спрос, запустив...</td>\n",
       "      <td>Мы быть для того чтобы отвечать этому требован...</td>\n",
       "      <td>-0.923881</td>\n",
       "    </tr>\n",
       "    <tr>\n",
       "      <th>2</th>\n",
       "      <td>en</td>\n",
       "      <td>ru</td>\n",
       "      <td>newstest2015</td>\n",
       "      <td>The winning couple had played the game for twe...</td>\n",
       "      <td>Выигравшая пара играет уже двадцать лет и сооб...</td>\n",
       "      <td>Пара победила на игру за двадцать лет и сказал...</td>\n",
       "      <td>-0.305908</td>\n",
       "    </tr>\n",
       "    <tr>\n",
       "      <th>3</th>\n",
       "      <td>en</td>\n",
       "      <td>ru</td>\n",
       "      <td>newstest2015</td>\n",
       "      <td>Previously, a similar vehicle scrappage progra...</td>\n",
       "      <td>Ранее в России уже действовала подобная програ...</td>\n",
       "      <td>Ранее подобная программа утилизации транспортн...</td>\n",
       "      <td>0.141536</td>\n",
       "    </tr>\n",
       "    <tr>\n",
       "      <th>4</th>\n",
       "      <td>en</td>\n",
       "      <td>ru</td>\n",
       "      <td>newstest2015</td>\n",
       "      <td>But now I can play computer games with shootin...</td>\n",
       "      <td>Но теперь я могу играть в компьютерные игры со...</td>\n",
       "      <td>Но теперь я могу играть в компьютерные игры со...</td>\n",
       "      <td>1.149710</td>\n",
       "    </tr>\n",
       "  </tbody>\n",
       "</table>\n",
       "</div>"
      ],
      "text/plain": [
       "  src trg           set                                             source  \\\n",
       "0  en  ru  newstest2015  \"It's not unexpected, but it is still infuriat...   \n",
       "1  en  ru  newstest2015  We're excited to be answering this demand by l...   \n",
       "2  en  ru  newstest2015  The winning couple had played the game for twe...   \n",
       "3  en  ru  newstest2015  Previously, a similar vehicle scrappage progra...   \n",
       "4  en  ru  newstest2015  But now I can play computer games with shootin...   \n",
       "\n",
       "                                           reference  \\\n",
       "0  \"Это не обмануло наши ожидания, но все-таки пр...   \n",
       "1  Мы рады отреагировать на такой спрос, запустив...   \n",
       "2  Выигравшая пара играет уже двадцать лет и сооб...   \n",
       "3  Ранее в России уже действовала подобная програ...   \n",
       "4  Но теперь я могу играть в компьютерные игры со...   \n",
       "\n",
       "                                           mt-system     human  \n",
       "0  \"Это не неожиданное, но это все еще меня бесиш... -0.404580  \n",
       "1  Мы быть для того чтобы отвечать этому требован... -0.923881  \n",
       "2  Пара победила на игру за двадцать лет и сказал... -0.305908  \n",
       "3  Ранее подобная программа утилизации транспортн...  0.141536  \n",
       "4  Но теперь я могу играть в компьютерные игры со...  1.149710  "
      ]
     },
     "execution_count": 4,
     "metadata": {},
     "output_type": "execute_result"
    }
   ],
   "source": [
    "dev = pd.DataFrame(data=data)\n",
    "dev[['human']] = dev[['human']].apply(pd.to_numeric)\n",
    "dev.head()"
   ]
  },
  {
   "cell_type": "markdown",
   "metadata": {},
   "source": [
    "### Dev data statistics"
   ]
  },
  {
   "cell_type": "code",
   "execution_count": 5,
   "metadata": {},
   "outputs": [
    {
     "data": {
      "text/plain": [
       "<matplotlib.axes._subplots.AxesSubplot at 0x7fcdbcf0d4e0>"
      ]
     },
     "execution_count": 5,
     "metadata": {},
     "output_type": "execute_result"
    }
   ],
   "source": [
    "dev['trg'].value_counts().plot(kind='bar')"
   ]
  },
  {
   "cell_type": "code",
   "execution_count": 6,
   "metadata": {},
   "outputs": [
    {
     "data": {
      "text/plain": [
       "<matplotlib.axes._subplots.AxesSubplot at 0x7fcdbaba1198>"
      ]
     },
     "execution_count": 6,
     "metadata": {},
     "output_type": "execute_result"
    },
    {
     "data": {
      "image/png": "[encoded data removed]",
      "text/plain": [
       "<Figure size 432x288 with 1 Axes>"
      ]
     },
     "metadata": {},
     "output_type": "display_data"
    }
   ],
   "source": [
    "dev['human'].hist()"
   ]
  },
  {
   "cell_type": "markdown",
   "metadata": {},
   "source": [
    "### Aggregate test data (2017)"
   ]
  },
  {
   "cell_type": "code",
   "execution_count": 14,
   "metadata": {},
   "outputs": [],
   "source": [
    "da_seg = csv.reader(open('./wmt17-metrics-task-package/manual-evaluation/DA-seglevel.csv'), delimiter=' ')\n",
    "headers = next(da_seg)\n",
    "\n",
    "da_dict = {}\n",
    "for row in da_seg:\n",
    "    basename = '%s.%s.%s' % (row[1], row[2], row[0])\n",
    "    line_num = int(row[3])\n",
    "    da_dict[(basename, line_num)] = row[-1]"
   ]
  },
  {
   "cell_type": "code",
   "execution_count": 19,
   "metadata": {},
   "outputs": [],
   "source": [
    "cols = ['human', 'mt-system', 'reference', 'source']\n",
    "data = { 'src':[], 'trg':[], 'set':[], 'source':[], 'reference':[], 'mt-system':[], 'human':[] }\n",
    "\n",
    "trials = glob.glob('./wmt17-metrics-task-package/input/tokenized/system-outputs/*/*/*')\n",
    "for trial in trials:\n",
    "    attr = trial.split('/')\n",
    "    lp = attr[6].replace('-', '')\n",
    "    refname = '%s-%s-ref.%s' % (attr[5], lp, lp[2:])\n",
    "    \n",
    "    basename = attr[-1]\n",
    "    print('Processing %s...' % basename)\n",
    "    source = list(open('./wmt17-metrics-task-package/input/raw/sources/%s' % refname))\n",
    "    reference = list(open('./wmt17-metrics-task-package/input/tokenized/references/%s' % refname))\n",
    "    system_output = open(trial)\n",
    "    \n",
    "    for i, (src, ref, out) in enumerate(zip(source, reference, system_output), 1):\n",
    "        if (basename, i) in da_dict:\n",
    "            human = da_dict[(basename, i)]\n",
    "            ref, out = ref.strip(), out.strip()\n",
    "            \n",
    "            data['src'].append(lp[:2])\n",
    "            data['trg'].append(lp[2:])\n",
    "            data['set'].append(attr[5])\n",
    "            data['source'].append('NA')\n",
    "            data['reference'].append(ref)\n",
    "            data['mt-system'].append(out)\n",
    "            data['human'].append(human)"
   ]
  },
  {
   "cell_type": "markdown",
   "metadata": {},
   "source": [
    "### Test data (2017) statistics"
   ]
  },
  {
   "cell_type": "code",
   "execution_count": 27,
   "metadata": {},
   "outputs": [
    {
     "data": {
      "text/html": [
       "<div>\n",
       "<style scoped>\n",
       "    .dataframe tbody tr th:only-of-type {\n",
       "        vertical-align: middle;\n",
       "    }\n",
       "\n",
       "    .dataframe tbody tr th {\n",
       "        vertical-align: top;\n",
       "    }\n",
       "\n",
       "    .dataframe thead th {\n",
       "        text-align: right;\n",
       "    }\n",
       "</style>\n",
       "<table border=\"1\" class=\"dataframe\">\n",
       "  <thead>\n",
       "    <tr style=\"text-align: right;\">\n",
       "      <th></th>\n",
       "      <th>src</th>\n",
       "      <th>trg</th>\n",
       "      <th>set</th>\n",
       "      <th>source</th>\n",
       "      <th>reference</th>\n",
       "      <th>mt-system</th>\n",
       "      <th>human</th>\n",
       "    </tr>\n",
       "  </thead>\n",
       "  <tbody>\n",
       "    <tr>\n",
       "      <th>0</th>\n",
       "      <td>ru</td>\n",
       "      <td>en</td>\n",
       "      <td>newstest2017</td>\n",
       "      <td>NA</td>\n",
       "      <td>in the setting of a health resort , a person c...</td>\n",
       "      <td>in the conditions of sanatorium employees can ...</td>\n",
       "      <td>-0.612352</td>\n",
       "    </tr>\n",
       "    <tr>\n",
       "      <th>1</th>\n",
       "      <td>ru</td>\n",
       "      <td>en</td>\n",
       "      <td>newstest2017</td>\n",
       "      <td>NA</td>\n",
       "      <td>so , there &amp;apos;s no need to fear the weather...</td>\n",
       "      <td>so do not be afraid of the weather outside , e...</td>\n",
       "      <td>0.651127</td>\n",
       "    </tr>\n",
       "    <tr>\n",
       "      <th>2</th>\n",
       "      <td>ru</td>\n",
       "      <td>en</td>\n",
       "      <td>newstest2017</td>\n",
       "      <td>NA</td>\n",
       "      <td>in june , this figure rose by 1.7 % .</td>\n",
       "      <td>in june the indicator grew by 1.7 % .</td>\n",
       "      <td>0.540414</td>\n",
       "    </tr>\n",
       "    <tr>\n",
       "      <th>3</th>\n",
       "      <td>ru</td>\n",
       "      <td>en</td>\n",
       "      <td>newstest2017</td>\n",
       "      <td>NA</td>\n",
       "      <td>prior to this , in fact , she managed to win s...</td>\n",
       "      <td>prior to that , she managed to win silver at t...</td>\n",
       "      <td>0.739021</td>\n",
       "    </tr>\n",
       "    <tr>\n",
       "      <th>4</th>\n",
       "      <td>ru</td>\n",
       "      <td>en</td>\n",
       "      <td>newstest2017</td>\n",
       "      <td>NA</td>\n",
       "      <td>having immigrated to the united states , she q...</td>\n",
       "      <td>emigrated to the us , she quickly entered in t...</td>\n",
       "      <td>-0.345920</td>\n",
       "    </tr>\n",
       "  </tbody>\n",
       "</table>\n",
       "</div>"
      ],
      "text/plain": [
       "  src trg           set source  \\\n",
       "0  ru  en  newstest2017     NA   \n",
       "1  ru  en  newstest2017     NA   \n",
       "2  ru  en  newstest2017     NA   \n",
       "3  ru  en  newstest2017     NA   \n",
       "4  ru  en  newstest2017     NA   \n",
       "\n",
       "                                           reference  \\\n",
       "0  in the setting of a health resort , a person c...   \n",
       "1  so , there &apos;s no need to fear the weather...   \n",
       "2              in june , this figure rose by 1.7 % .   \n",
       "3  prior to this , in fact , she managed to win s...   \n",
       "4  having immigrated to the united states , she q...   \n",
       "\n",
       "                                           mt-system     human  \n",
       "0  in the conditions of sanatorium employees can ... -0.612352  \n",
       "1  so do not be afraid of the weather outside , e...  0.651127  \n",
       "2              in june the indicator grew by 1.7 % .  0.540414  \n",
       "3  prior to that , she managed to win silver at t...  0.739021  \n",
       "4  emigrated to the us , she quickly entered in t... -0.345920  "
      ]
     },
     "execution_count": 27,
     "metadata": {},
     "output_type": "execute_result"
    }
   ],
   "source": [
    "test = pd.DataFrame(data=data)\n",
    "test[['human']] = test[['human']].apply(pd.to_numeric)\n",
    "test.head()"
   ]
  },
  {
   "cell_type": "code",
   "execution_count": null,
   "metadata": {},
   "outputs": [],
   "source": [
    "test['trg'].value_counts().plot(kind='bar')"
   ]
  },
  {
   "cell_type": "code",
   "execution_count": 28,
   "metadata": {},
   "outputs": [
    {
     "data": {
      "text/plain": [
       "<matplotlib.axes._subplots.AxesSubplot at 0x7fcdbaa0d358>"
      ]
     },
     "execution_count": 28,
     "metadata": {},
     "output_type": "execute_result"
    },
    {
     "data": {
      "image/png": "[encoded data removed]",
      "text/plain": [
       "<Figure size 432x288 with 1 Axes>"
      ]
     },
     "metadata": {},
     "output_type": "display_data"
    }
   ],
   "source": [
    "test['human'].hist()"
   ]
  }
 ],
 "metadata": {
  "kernelspec": {
   "display_name": "Python 3",
   "language": "python",
   "name": "python3"
  },
  "language_info": {
   "codemirror_mode": {
    "name": "ipython",
    "version": 3
   },
   "file_extension": ".py",
   "mimetype": "text/x-python",
   "name": "python",
   "nbconvert_exporter": "python",
   "pygments_lexer": "ipython3",
   "version": "3.6.5"
  }
 },
 "nbformat": 4,
 "nbformat_minor": 2
}
