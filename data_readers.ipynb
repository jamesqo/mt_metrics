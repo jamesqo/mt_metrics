{
 "cells": [
  {
   "cell_type": "code",
   "execution_count": 1,
   "metadata": {},
   "outputs": [
    {
     "name": "stderr",
     "output_type": "stream",
     "text": [
      "/home/jwei/miniconda3/lib/python3.6/importlib/_bootstrap.py:219: RuntimeWarning: numpy.dtype size changed, may indicate binary incompatibility. Expected 96, got 88\n",
      "  return f(*args, **kwds)\n",
      "/home/jwei/miniconda3/lib/python3.6/importlib/_bootstrap.py:219: RuntimeWarning: numpy.dtype size changed, may indicate binary incompatibility. Expected 96, got 88\n",
      "  return f(*args, **kwds)\n"
     ]
    }
   ],
   "source": [
    "import glob\n",
    "\n",
    "import pandas as pd"
   ]
  },
  {
   "cell_type": "markdown",
   "metadata": {},
   "source": [
    "### Aggregate dev data (2015, 2016)"
   ]
  },
  {
   "cell_type": "code",
   "execution_count": 2,
   "metadata": {},
   "outputs": [
    {
     "name": "stdout",
     "output_type": "stream",
     "text": [
      "./dev/2015/DAseg-wmt-newstest2015/DAseg.newstest2015.human.en-ru\n",
      "./dev/2015/DAseg-wmt-newstest2015/DAseg.newstest2015.human.fi-en\n",
      "./dev/2015/DAseg-wmt-newstest2015/DAseg.newstest2015.human.cs-en\n",
      "./dev/2015/DAseg-wmt-newstest2015/DAseg.newstest2015.human.de-en\n",
      "./dev/2015/DAseg-wmt-newstest2015/DAseg.newstest2015.human.ru-en\n",
      "./dev/2016/DAseg-wmt-newstest2016/DAseg.newstest2016.human.tr-en\n",
      "./dev/2016/DAseg-wmt-newstest2016/DAseg.newstest2016.human.ru-en\n",
      "./dev/2016/DAseg-wmt-newstest2016/DAseg.newstest2016.human.cs-en\n",
      "./dev/2016/DAseg-wmt-newstest2016/DAseg.newstest2016.human.de-en\n",
      "./dev/2016/DAseg-wmt-newstest2016/DAseg.newstest2016.human.fi-en\n",
      "./dev/2016/DAseg-wmt-newstest2016/DAseg.newstest2016.human.ro-en\n",
      "./dev/2016/DAseg-wmt-newstest2016/DAseg.newstest2016.human.en-ru\n"
     ]
    }
   ],
   "source": [
    "da = glob.glob('./dev/*/*/*.human.*')\n",
    "print('\\n'.join(da))"
   ]
  },
  {
   "cell_type": "code",
   "execution_count": 3,
   "metadata": {},
   "outputs": [
    {
     "name": "stdout",
     "output_type": "stream",
     "text": [
      "Processing newstest2015, en-ru...\n",
      "Processing newstest2015, fi-en...\n",
      "Processing newstest2015, cs-en...\n",
      "Processing newstest2015, de-en...\n",
      "Processing newstest2015, ru-en...\n",
      "Processing newstest2016, tr-en...\n",
      "Processing newstest2016, ru-en...\n",
      "Processing newstest2016, cs-en...\n",
      "Processing newstest2016, de-en...\n",
      "Processing newstest2016, fi-en...\n",
      "Processing newstest2016, ro-en...\n",
      "Processing newstest2016, en-ru...\n"
     ]
    }
   ],
   "source": [
    "cols = ['human', 'mt-system', 'reference', 'source']\n",
    "data = { 'src':[], 'trg':[], 'set':[], 'source':[], 'reference':[], 'mt-system':[], 'human':[] }\n",
    "\n",
    "for rating in da:\n",
    "    attr = rating.split('.')\n",
    "    lp = attr[-1]\n",
    "    test_set = attr[-3]\n",
    "    print('Processing %s, %s...' % (test_set, lp))\n",
    "    \n",
    "    length = len(list(open(rating, 'rt')))\n",
    "    \n",
    "    data['src'].extend(length * [lp[:2]])\n",
    "    data['trg'].extend(length * [lp[3:]])\n",
    "    data['set'].extend(length * [test_set])\n",
    "    \n",
    "    for col in cols:\n",
    "        attr[-2] = col\n",
    "        path = '.'.join(attr)\n",
    "        \n",
    "        data[col].extend([ i.strip() for i in open(path, 'rt') ])"
   ]
  },
  {
   "cell_type": "code",
   "execution_count": 19,
   "metadata": {},
   "outputs": [
    {
     "data": {
      "text/html": [
       "<div>\n",
       "<style scoped>\n",
       "    .dataframe tbody tr th:only-of-type {\n",
       "        vertical-align: middle;\n",
       "    }\n",
       "\n",
       "    .dataframe tbody tr th {\n",
       "        vertical-align: top;\n",
       "    }\n",
       "\n",
       "    .dataframe thead th {\n",
       "        text-align: right;\n",
       "    }\n",
       "</style>\n",
       "<table border=\"1\" class=\"dataframe\">\n",
       "  <thead>\n",
       "    <tr style=\"text-align: right;\">\n",
       "      <th></th>\n",
       "      <th>human</th>\n",
       "    </tr>\n",
       "  </thead>\n",
       "  <tbody>\n",
       "    <tr>\n",
       "      <th>count</th>\n",
       "      <td>6420.000000</td>\n",
       "    </tr>\n",
       "    <tr>\n",
       "      <th>mean</th>\n",
       "      <td>-0.031175</td>\n",
       "    </tr>\n",
       "    <tr>\n",
       "      <th>std</th>\n",
       "      <td>0.584579</td>\n",
       "    </tr>\n",
       "    <tr>\n",
       "      <th>min</th>\n",
       "      <td>-1.953796</td>\n",
       "    </tr>\n",
       "    <tr>\n",
       "      <th>25%</th>\n",
       "      <td>-0.479059</td>\n",
       "    </tr>\n",
       "    <tr>\n",
       "      <th>50%</th>\n",
       "      <td>-0.036177</td>\n",
       "    </tr>\n",
       "    <tr>\n",
       "      <th>75%</th>\n",
       "      <td>0.411044</td>\n",
       "    </tr>\n",
       "    <tr>\n",
       "      <th>max</th>\n",
       "      <td>1.652295</td>\n",
       "    </tr>\n",
       "  </tbody>\n",
       "</table>\n",
       "</div>"
      ],
      "text/plain": [
       "             human\n",
       "count  6420.000000\n",
       "mean     -0.031175\n",
       "std       0.584579\n",
       "min      -1.953796\n",
       "25%      -0.479059\n",
       "50%      -0.036177\n",
       "75%       0.411044\n",
       "max       1.652295"
      ]
     },
     "execution_count": 19,
     "metadata": {},
     "output_type": "execute_result"
    }
   ],
   "source": [
    "dev = pd.DataFrame(data=data)\n",
    "dev[['human']] = dev[['human']].apply(pd.to_numeric)\n",
    "dev.describe()"
   ]
  },
  {
   "cell_type": "markdown",
   "metadata": {},
   "source": [
    "### Dev data statistics"
   ]
  },
  {
   "cell_type": "code",
   "execution_count": 20,
   "metadata": {},
   "outputs": [
    {
     "data": {
      "text/plain": [
       "<matplotlib.axes._subplots.AxesSubplot at 0x7f37a8f5abe0>"
      ]
     },
     "execution_count": 20,
     "metadata": {},
     "output_type": "execute_result"
    },
    {
     "data": {
      "image/png": "[encoded data removed]",
      "text/plain": [
       "<Figure size 432x288 with 1 Axes>"
      ]
     },
     "metadata": {},
     "output_type": "display_data"
    }
   ],
   "source": [
    "dev['trg'].value_counts().plot(kind='bar')"
   ]
  },
  {
   "cell_type": "code",
   "execution_count": 22,
   "metadata": {},
   "outputs": [
    {
     "data": {
      "text/plain": [
       "<matplotlib.axes._subplots.AxesSubplot at 0x7f37a8fae860>"
      ]
     },
     "execution_count": 22,
     "metadata": {},
     "output_type": "execute_result"
    },
    {
     "data": {
      "image/png": "[encoded data removed]",
      "text/plain": [
       "<Figure size 432x288 with 1 Axes>"
      ]
     },
     "metadata": {},
     "output_type": "display_data"
    }
   ],
   "source": [
    "dev['human'].hist()"
   ]
  },
  {
   "cell_type": "markdown",
   "metadata": {},
   "source": [
    "### Aggregate test data (2017)"
   ]
  },
  {
   "cell_type": "code",
   "execution_count": null,
   "metadata": {},
   "outputs": [],
   "source": []
  }
 ],
 "metadata": {
  "kernelspec": {
   "display_name": "Python 3",
   "language": "python",
   "name": "python3"
  },
  "language_info": {
   "codemirror_mode": {
    "name": "ipython",
    "version": 3
   },
   "file_extension": ".py",
   "mimetype": "text/x-python",
   "name": "python",
   "nbconvert_exporter": "python",
   "pygments_lexer": "ipython3",
   "version": "3.6.5"
  }
 },
 "nbformat": 4,
 "nbformat_minor": 2
}
