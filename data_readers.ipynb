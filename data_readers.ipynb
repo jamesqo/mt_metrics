{
 "cells": [
  {
   "cell_type": "code",
   "execution_count": 1,
   "metadata": {},
   "outputs": [],
   "source": [
    "import glob\n",
    "import csv\n",
    "import pandas as pd"
   ]
  },
  {
   "cell_type": "markdown",
   "metadata": {},
   "source": [
    "### Aggregate dev data (2015, 2016)"
   ]
  },
  {
   "cell_type": "code",
   "execution_count": 2,
   "metadata": {},
   "outputs": [
    {
     "name": "stdout",
     "output_type": "stream",
     "text": [
      "./dev/2015/DAseg-wmt-newstest2015/DAseg.newstest2015.human.en-ru\n",
      "./dev/2015/DAseg-wmt-newstest2015/DAseg.newstest2015.human.fi-en\n",
      "./dev/2015/DAseg-wmt-newstest2015/DAseg.newstest2015.human.cs-en\n",
      "./dev/2015/DAseg-wmt-newstest2015/DAseg.newstest2015.human.de-en\n",
      "./dev/2015/DAseg-wmt-newstest2015/DAseg.newstest2015.human.ru-en\n",
      "./dev/2016/DAseg-wmt-newstest2016/DAseg.newstest2016.human.tr-en\n",
      "./dev/2016/DAseg-wmt-newstest2016/DAseg.newstest2016.human.ru-en\n",
      "./dev/2016/DAseg-wmt-newstest2016/DAseg.newstest2016.human.cs-en\n",
      "./dev/2016/DAseg-wmt-newstest2016/DAseg.newstest2016.human.de-en\n",
      "./dev/2016/DAseg-wmt-newstest2016/DAseg.newstest2016.human.fi-en\n",
      "./dev/2016/DAseg-wmt-newstest2016/DAseg.newstest2016.human.ro-en\n",
      "./dev/2016/DAseg-wmt-newstest2016/DAseg.newstest2016.human.en-ru\n"
     ]
    }
   ],
   "source": [
    "da = glob.glob('./dev/*/*/*.human.*')\n",
    "print('\\n'.join(da))"
   ]
  },
  {
   "cell_type": "code",
   "execution_count": 3,
   "metadata": {},
   "outputs": [
    {
     "name": "stdout",
     "output_type": "stream",
     "text": [
      "Processing newstest2015, en-ru...\n",
      "Processing newstest2015, fi-en...\n",
      "Processing newstest2015, cs-en...\n",
      "Processing newstest2015, de-en...\n",
      "Processing newstest2015, ru-en...\n",
      "Processing newstest2016, tr-en...\n",
      "Processing newstest2016, ru-en...\n",
      "Processing newstest2016, cs-en...\n",
      "Processing newstest2016, de-en...\n",
      "Processing newstest2016, fi-en...\n",
      "Processing newstest2016, ro-en...\n",
      "Processing newstest2016, en-ru...\n"
     ]
    }
   ],
   "source": [
    "cols = ['human', 'mt-system', 'reference', 'source']\n",
    "data = { 'src':[], 'trg':[], 'set':[], 'source':[], 'reference':[], 'mt-system':[], 'human':[] }\n",
    "\n",
    "for rating in da:\n",
    "    attr = rating.split('.')\n",
    "    lp = attr[-1]\n",
    "    test_set = attr[-3]\n",
    "    print('Processing %s, %s...' % (test_set, lp))\n",
    "    \n",
    "    length = len(list(open(rating, 'rt')))\n",
    "    \n",
    "    data['src'].extend(length * [lp[:2]])\n",
    "    data['trg'].extend(length * [lp[3:]])\n",
    "    data['set'].extend(length * [test_set])\n",
    "    \n",
    "    for col in cols:\n",
    "        attr[-2] = col\n",
    "        path = '.'.join(attr)\n",
    "        \n",
    "        data[col].extend([ i.strip() for i in open(path, 'rt') ])"
   ]
  },
  {
   "cell_type": "code",
   "execution_count": 4,
   "metadata": {},
   "outputs": [
    {
     "data": {
      "text/html": [
       "<div>\n",
       "<style scoped>\n",
       "    .dataframe tbody tr th:only-of-type {\n",
       "        vertical-align: middle;\n",
       "    }\n",
       "\n",
       "    .dataframe tbody tr th {\n",
       "        vertical-align: top;\n",
       "    }\n",
       "\n",
       "    .dataframe thead th {\n",
       "        text-align: right;\n",
       "    }\n",
       "</style>\n",
       "<table border=\"1\" class=\"dataframe\">\n",
       "  <thead>\n",
       "    <tr style=\"text-align: right;\">\n",
       "      <th></th>\n",
       "      <th>src</th>\n",
       "      <th>trg</th>\n",
       "      <th>set</th>\n",
       "      <th>source</th>\n",
       "      <th>reference</th>\n",
       "      <th>mt-system</th>\n",
       "      <th>human</th>\n",
       "    </tr>\n",
       "  </thead>\n",
       "  <tbody>\n",
       "    <tr>\n",
       "      <th>0</th>\n",
       "      <td>en</td>\n",
       "      <td>ru</td>\n",
       "      <td>newstest2015</td>\n",
       "      <td>\"It's not unexpected, but it is still infuriat...</td>\n",
       "      <td>\"Это не обмануло наши ожидания, но все-таки пр...</td>\n",
       "      <td>\"Это не неожиданное, но это все еще меня бесиш...</td>\n",
       "      <td>-0.404580</td>\n",
       "    </tr>\n",
       "    <tr>\n",
       "      <th>1</th>\n",
       "      <td>en</td>\n",
       "      <td>ru</td>\n",
       "      <td>newstest2015</td>\n",
       "      <td>We're excited to be answering this demand by l...</td>\n",
       "      <td>Мы рады отреагировать на такой спрос, запустив...</td>\n",
       "      <td>Мы быть для того чтобы отвечать этому требован...</td>\n",
       "      <td>-0.923881</td>\n",
       "    </tr>\n",
       "    <tr>\n",
       "      <th>2</th>\n",
       "      <td>en</td>\n",
       "      <td>ru</td>\n",
       "      <td>newstest2015</td>\n",
       "      <td>The winning couple had played the game for twe...</td>\n",
       "      <td>Выигравшая пара играет уже двадцать лет и сооб...</td>\n",
       "      <td>Пара победила на игру за двадцать лет и сказал...</td>\n",
       "      <td>-0.305908</td>\n",
       "    </tr>\n",
       "    <tr>\n",
       "      <th>3</th>\n",
       "      <td>en</td>\n",
       "      <td>ru</td>\n",
       "      <td>newstest2015</td>\n",
       "      <td>Previously, a similar vehicle scrappage progra...</td>\n",
       "      <td>Ранее в России уже действовала подобная програ...</td>\n",
       "      <td>Ранее подобная программа утилизации транспортн...</td>\n",
       "      <td>0.141536</td>\n",
       "    </tr>\n",
       "    <tr>\n",
       "      <th>4</th>\n",
       "      <td>en</td>\n",
       "      <td>ru</td>\n",
       "      <td>newstest2015</td>\n",
       "      <td>But now I can play computer games with shootin...</td>\n",
       "      <td>Но теперь я могу играть в компьютерные игры со...</td>\n",
       "      <td>Но теперь я могу играть в компьютерные игры со...</td>\n",
       "      <td>1.149710</td>\n",
       "    </tr>\n",
       "  </tbody>\n",
       "</table>\n",
       "</div>"
      ],
      "text/plain": [
       "  src trg           set                                             source  \\\n",
       "0  en  ru  newstest2015  \"It's not unexpected, but it is still infuriat...   \n",
       "1  en  ru  newstest2015  We're excited to be answering this demand by l...   \n",
       "2  en  ru  newstest2015  The winning couple had played the game for twe...   \n",
       "3  en  ru  newstest2015  Previously, a similar vehicle scrappage progra...   \n",
       "4  en  ru  newstest2015  But now I can play computer games with shootin...   \n",
       "\n",
       "                                           reference  \\\n",
       "0  \"Это не обмануло наши ожидания, но все-таки пр...   \n",
       "1  Мы рады отреагировать на такой спрос, запустив...   \n",
       "2  Выигравшая пара играет уже двадцать лет и сооб...   \n",
       "3  Ранее в России уже действовала подобная програ...   \n",
       "4  Но теперь я могу играть в компьютерные игры со...   \n",
       "\n",
       "                                           mt-system     human  \n",
       "0  \"Это не неожиданное, но это все еще меня бесиш... -0.404580  \n",
       "1  Мы быть для того чтобы отвечать этому требован... -0.923881  \n",
       "2  Пара победила на игру за двадцать лет и сказал... -0.305908  \n",
       "3  Ранее подобная программа утилизации транспортн...  0.141536  \n",
       "4  Но теперь я могу играть в компьютерные игры со...  1.149710  "
      ]
     },
     "execution_count": 4,
     "metadata": {},
     "output_type": "execute_result"
    }
   ],
   "source": [
    "dev = pd.DataFrame(data=data)\n",
    "dev[['human']] = dev[['human']].apply(pd.to_numeric)\n",
    "dev.head()"
   ]
  },
  {
   "cell_type": "markdown",
   "metadata": {},
   "source": [
    "### Dev data statistics"
   ]
  },
  {
   "cell_type": "code",
   "execution_count": 5,
   "metadata": {},
   "outputs": [
    {
     "data": {
      "text/plain": [
       "<matplotlib.axes._subplots.AxesSubplot at 0x7fd3ff4d9940>"
      ]
     },
     "execution_count": 5,
     "metadata": {},
     "output_type": "execute_result"
    }
   ],
   "source": [
    "dev['trg'].value_counts().plot(kind='bar')"
   ]
  },
  {
   "cell_type": "code",
   "execution_count": 6,
   "metadata": {},
   "outputs": [
    {
     "data": {
      "text/plain": [
       "<matplotlib.axes._subplots.AxesSubplot at 0x7fd3ff178518>"
      ]
     },
     "execution_count": 6,
     "metadata": {},
     "output_type": "execute_result"
    },
    {
     "data": {
      "image/png": "[encoded data removed]",
      "text/plain": [
       "<Figure size 432x288 with 1 Axes>"
      ]
     },
     "metadata": {
      "needs_background": "light"
     },
     "output_type": "display_data"
    }
   ],
   "source": [
    "dev['human'].hist()"
   ]
  },
  {
   "cell_type": "markdown",
   "metadata": {},
   "source": [
    "### Aggregate test data (2017)"
   ]
  },
  {
   "cell_type": "code",
   "execution_count": 32,
   "metadata": {},
   "outputs": [],
   "source": [
    "da_seg = csv.reader(open('./wmt17-metrics-task-package/manual-evaluation/DA-seglevel.csv'), delimiter=' ')\n",
    "headers = next(da_seg)\n",
    "\n",
    "da_dict = {}\n",
    "da_flags = {}\n",
    "for row in da_seg:\n",
    "    # need to strip the additional system if outputs equal\n",
    "    if '+' in row[2]:\n",
    "        system = row[2][:row[2].index('+')]\n",
    "    else:\n",
    "        system = row[2]\n",
    "    \n",
    "    basename = '%s.%s.%s' % (row[1], system, row[0])\n",
    "    line_num = int(row[3])\n",
    "    da_dict[(basename, line_num)] = row[-1]\n",
    "    da_flags[(basename, line_num)] = False"
   ]
  },
  {
   "cell_type": "code",
   "execution_count": 39,
   "metadata": {},
   "outputs": [
    {
     "name": "stdout",
     "output_type": "stream",
     "text": [
      "Processing himltest2017b.PBMT.en-ro...\n",
      "Processing himltest2017b.Combo.en-ro...\n",
      "Processing himltest2017a.Chimera.en-cs...\n",
      "Processing himltest2017a.NMT.en-cs...\n",
      "Processing himltest2017a.Tecto.en-cs...\n",
      "Processing himltest2017a.Year1.en-pl...\n",
      "Processing himltest2017a.PBMT.en-pl...\n",
      "Processing himltest2017a.NMT.en-pl...\n",
      "Processing himltest2017a.Combo.en-ro...\n",
      "Processing himltest2017a.NMT.en-ro...\n",
      "Processing himltest2017a.PBMT.en-ro...\n",
      "Processing himltest2017a.Syntax.en-de...\n",
      "Processing himltest2017a.PBMT.en-de...\n",
      "Processing himltest2017a.NMT.en-de...\n",
      "Processing newstest2017.tuning-task-denisov_4gb.sgm.0.en-cs...\n",
      "Processing newstest2017.tuning-task-afrl_8gb.sgm.0.en-cs...\n",
      "Processing newstest2017.tuning-task-ufal_4gb.sgm.0.en-cs...\n",
      "Processing newstest2017.online-B.0.en-cs...\n",
      "Processing newstest2017.LIUM-NMT.4947.en-cs...\n",
      "Processing newstest2017.tuning-task-afrl_4gb.sgm.0.en-cs...\n",
      "Processing newstest2017.CU-Chimera.4886.en-cs...\n",
      "Processing newstest2017.LIUM-FNMT.4852.en-cs...\n",
      "Processing newstest2017.tuning-task-baseline_8gb.sgm.0.en-cs...\n",
      "Processing newstest2017.PJATK.4761.en-cs...\n",
      "Processing newstest2017.online-A.0.en-cs...\n",
      "Processing newstest2017.tuning-task-ufal_8gb.sgm.0.en-cs...\n",
      "Processing newstest2017.limsi-factored-norm.4957.en-cs...\n",
      "Processing newstest2017.uedin-nmt.4956.en-cs...\n",
      "Processing newstest2017.online-G.0.ru-en...\n",
      "Processing newstest2017.online-B.0.ru-en...\n",
      "Processing newstest2017.online-F.0.ru-en...\n",
      "Processing newstest2017.jhu-pbmt.4978.ru-en...\n",
      "Processing newstest2017.afrl-mitll-opennmt.4896.ru-en...\n",
      "Processing newstest2017.afrl-mitll-syscomb.4905.ru-en...\n",
      "Processing newstest2017.NRC.4855.ru-en...\n",
      "Processing newstest2017.online-A.0.ru-en...\n",
      "Processing newstest2017.uedin-nmt.4890.ru-en...\n",
      "Processing newstest2017.uedin-nmt.4931.tr-en...\n",
      "Processing newstest2017.online-A.0.tr-en...\n",
      "Processing newstest2017.LIUM-NMT.4888.tr-en...\n",
      "Processing newstest2017.afrl-mitll-m2w-nr1.4901.tr-en...\n",
      "Processing newstest2017.JAIST.4859.tr-en...\n",
      "Processing newstest2017.PROMT-SMT.4737.tr-en...\n",
      "Processing newstest2017.jhu-pbmt.4972.tr-en...\n",
      "Processing newstest2017.online-B.0.tr-en...\n",
      "Processing newstest2017.afrl-mitll-syscomb.4902.tr-en...\n",
      "Processing newstest2017.online-G.0.tr-en...\n",
      "Processing newstest2017.uedin-nmt.5112.zh-en...\n",
      "Processing newstest2017.online-B.0.zh-en...\n",
      "Processing newstest2017.SogouKnowing-nmt.5171.zh-en...\n",
      "Processing newstest2017.online-F.0.zh-en...\n",
      "Processing newstest2017.ROCMT.5167.zh-en...\n",
      "Processing newstest2017.UU-HNMT.5162.zh-en...\n",
      "Processing newstest2017.afrl-mitll-opennmt.5109.zh-en...\n",
      "Processing newstest2017.CASICT-cons.5144.zh-en...\n",
      "Processing newstest2017.online-G.0.zh-en...\n",
      "Processing newstest2017.PROMT-SMT.5125.zh-en...\n",
      "Processing newstest2017.NMT-Model-Average-Multi-Cards.5099.zh-en...\n",
      "Processing newstest2017.online-A.0.zh-en...\n",
      "Processing newstest2017.NRC.5172.zh-en...\n",
      "Processing newstest2017.xmunmt.5160.zh-en...\n",
      "Processing newstest2017.jhu-nmt.5151.zh-en...\n",
      "Processing newstest2017.Oregon-State-University-S.5173.zh-en...\n",
      "Processing newstest2017.online-A.0.fi-en...\n",
      "Processing newstest2017.TALP-UPC.4937.fi-en...\n",
      "Processing newstest2017.online-G.0.fi-en...\n",
      "Processing newstest2017.online-B.0.fi-en...\n",
      "Processing newstest2017.apertium-unconstrained.4793.fi-en...\n",
      "Processing newstest2017.Hunter-MT.4925.fi-en...\n",
      "Processing newstest2017.PJATK.4740.lv-en...\n",
      "Processing newstest2017.jhu-pbmt.4980.lv-en...\n",
      "Processing newstest2017.online-A.0.lv-en...\n",
      "Processing newstest2017.Hunter-MT.5092.lv-en...\n",
      "Processing newstest2017.C-3MA.5067.lv-en...\n",
      "Processing newstest2017.tilde-c-nmt-smt-hybrid.5051.lv-en...\n",
      "Processing newstest2017.uedin-nmt.5017.lv-en...\n",
      "Processing newstest2017.online-B.0.lv-en...\n",
      "Processing newstest2017.tilde-nc-nmt-smt-hybrid.5050.lv-en...\n",
      "Processing newstest2017.online-A.0.cs-en...\n",
      "Processing newstest2017.PJATK.4760.cs-en...\n",
      "Processing newstest2017.uedin-nmt.4955.cs-en...\n",
      "Processing newstest2017.online-B.0.cs-en...\n",
      "Processing newstest2017.LIUM-NMT.4733.de-en...\n",
      "Processing newstest2017.RWTH-nmt-ensemble.4920.de-en...\n",
      "Processing newstest2017.TALP-UPC.4830.de-en...\n",
      "Processing newstest2017.online-G.0.de-en...\n",
      "Processing newstest2017.online-B.0.de-en...\n",
      "Processing newstest2017.online-F.0.de-en...\n",
      "Processing newstest2017.C-3MA.4958.de-en...\n",
      "Processing newstest2017.SYSTRAN.4846.de-en...\n",
      "Processing newstest2017.KIT.4951.de-en...\n",
      "Processing newstest2017.uedin-nmt.4723.de-en...\n",
      "Processing newstest2017.online-A.0.de-en...\n",
      "Processing newstest2017.jhu-nmt.5153.en-zh...\n",
      "Processing newstest2017.online-A.0.en-zh...\n",
      "Processing newstest2017.Oregon-State-University-S.5174.en-zh...\n",
      "Processing newstest2017.SogouKnowing-nmt.5131.en-zh...\n",
      "Processing newstest2017.uedin-nmt.5111.en-zh...\n",
      "Processing newstest2017.CASICT-cons.5157.en-zh...\n",
      "Processing newstest2017.online-F.0.en-zh...\n",
      "Processing newstest2017.online-B.0.en-zh...\n",
      "Processing newstest2017.xmunmt.5165.en-zh...\n",
      "Processing newstest2017.online-G.0.en-zh...\n",
      "Processing newstest2017.UU-HNMT.5134.en-zh...\n",
      "Processing newstest2017.uedin-nmt.4932.en-tr...\n",
      "Processing newstest2017.JAIST.4858.en-tr...\n",
      "Processing newstest2017.jhu-nmt-lattice-rescore.4904.en-tr...\n",
      "Processing newstest2017.LIUM-NMT.4953.en-tr...\n",
      "Processing newstest2017.online-A.0.en-tr...\n",
      "Processing newstest2017.online-G.0.en-tr...\n",
      "Processing newstest2017.online-B.0.en-tr...\n",
      "Processing newstest2017.jhu-pbmt.4970.en-tr...\n",
      "Processing newstest2017.online-G.0.en-de...\n",
      "Processing newstest2017.xmu.4910.en-de...\n",
      "Processing newstest2017.RWTH-nmt-ensemble.4921.en-de...\n",
      "Processing newstest2017.PROMT-Rule-based.4735.en-de...\n",
      "Processing newstest2017.TALP-UPC.4834.en-de...\n",
      "Processing newstest2017.SYSTRAN.4847.en-de...\n",
      "Processing newstest2017.LMU-nmt-reranked.4934.en-de...\n",
      "Processing newstest2017.online-F.0.en-de...\n",
      "Processing newstest2017.online-B.0.en-de...\n",
      "Processing newstest2017.KIT.4950.en-de...\n",
      "Processing newstest2017.uedin-nmt.4722.en-de...\n",
      "Processing newstest2017.C-3MA.4959.en-de...\n",
      "Processing newstest2017.LMU-nmt-single.4893.en-de...\n",
      "Processing newstest2017.online-A.0.en-de...\n",
      "Processing newstest2017.fbk-nmt-combination.4870.en-de...\n",
      "Processing newstest2017.LIUM-NMT.4900.en-de...\n",
      "Processing newstest2017.online-H.0.en-ru...\n",
      "Processing newstest2017.online-A.0.en-ru...\n",
      "Processing newstest2017.jhu-pbmt.4986.en-ru...\n",
      "Processing newstest2017.PROMT-Rule-based.4736.en-ru...\n",
      "Processing newstest2017.online-G.0.en-ru...\n",
      "Processing newstest2017.afrl-mitll-backtrans.4907.en-ru...\n",
      "Processing newstest2017.online-F.0.en-ru...\n",
      "Processing newstest2017.online-B.0.en-ru...\n",
      "Processing newstest2017.uedin-nmt.4756.en-ru...\n",
      "Processing newstest2017.HY-HNMT.5066.en-lv...\n",
      "Processing newstest2017.LIUM-NMT.5042.en-lv...\n",
      "Processing newstest2017.online-A.0.en-lv...\n",
      "Processing newstest2017.tilde-nc-smt.5044.en-lv...\n",
      "Processing newstest2017.jhu-pbmt.4969.en-lv...\n",
      "Processing newstest2017.uedin-nmt.5016.en-lv...\n",
      "Processing newstest2017.tilde-nc-nmt-smt-hybrid.5047.en-lv...\n",
      "Processing newstest2017.tilde-c-nmt-smt-hybrid.5049.en-lv...\n",
      "Processing newstest2017.usfd-consensus-qt21.5077.en-lv...\n",
      "Processing newstest2017.KIT.5062.en-lv...\n",
      "Processing newstest2017.online-B.0.en-lv...\n",
      "Processing newstest2017.usfd-consensus-kit.5078.en-lv...\n",
      "Processing newstest2017.QT21-System-Combination.5063.en-lv...\n",
      "Processing newstest2017.C-3MA.5069.en-lv...\n",
      "Processing newstest2017.PJATK.4744.en-lv...\n",
      "Processing newstest2017.limsi-factored-norm.5041.en-lv...\n",
      "Processing newstest2017.LIUM-FNMT.5043.en-lv...\n",
      "Processing newstest2017.jhu-pbmt.4968.en-fi...\n",
      "Processing newstest2017.HY-SMT.4882.en-fi...\n",
      "Processing newstest2017.online-G.0.en-fi...\n",
      "Processing newstest2017.HY-AH.4797.en-fi...\n",
      "Processing newstest2017.online-B.0.en-fi...\n",
      "Processing newstest2017.TALP-UPC.4939.en-fi...\n",
      "Processing newstest2017.AaltoHnmtFlatcat.4798.en-fi...\n",
      "Processing newstest2017.HY-HNMT.4961.en-fi...\n",
      "Processing newstest2017.AaltoHnmtMultitask.4873.en-fi...\n",
      "Processing newstest2017.online-A.0.en-fi...\n",
      "Processing newstest2017.jhu-nmt-lattice-rescore.4903.en-fi...\n",
      "Processing newstest2017.apertium-unconstrained.4769.en-fi...\n"
     ]
    }
   ],
   "source": [
    "cols = ['human', 'mt-system', 'reference', 'source']\n",
    "data = { 'src':[], 'trg':[], 'set':[], 'source':[], 'reference':[], 'mt-system':[], 'human':[] }\n",
    "\n",
    "trials = glob.glob('./wmt17-metrics-task-package/input/tokenized/system-outputs/*/*/*')\n",
    "for trial in trials:\n",
    "    attr = trial.split('/')\n",
    "    lp = attr[6].replace('-', '')\n",
    "    refname = '%s-%s-ref.%s' % (attr[5], lp, lp[2:])\n",
    "    srcname = '%s-%s-src.%s' % (attr[5], lp, lp[:2])\n",
    "    \n",
    "    basename = attr[-1]\n",
    "    print('Processing %s...' % basename)\n",
    "    try:\n",
    "        source = list(open('./wmt17-metrics-task-package/input/raw/wmt17-submitted-data/txt/sources/%s' % srcname))\n",
    "    except:\n",
    "        source = list(open('./wmt17-metrics-task-package/input/raw/himltest17/txt/sources/%s' % srcname))\n",
    "    reference = list(open('./wmt17-metrics-task-package/input/tokenized/references/%s' % refname))\n",
    "    system_output = open(trial)\n",
    "    \n",
    "    for i, (src, ref, out) in enumerate(zip(source, reference, system_output), 1):\n",
    "        if (basename, i) in da_dict:\n",
    "            human = da_dict[(basename, i)]\n",
    "            da_flags[(basename, i)] = True\n",
    "            src, ref, out = src.strip(), ref.strip(), out.strip()\n",
    "            \n",
    "            data['src'].append(lp[:2])\n",
    "            data['trg'].append(lp[2:])\n",
    "            data['set'].append(attr[5])\n",
    "            data['source'].append(src)\n",
    "            data['reference'].append(ref)\n",
    "            data['mt-system'].append(out)\n",
    "            data['human'].append(human)"
   ]
  },
  {
   "cell_type": "code",
   "execution_count": 34,
   "metadata": {},
   "outputs": [
    {
     "name": "stdout",
     "output_type": "stream",
     "text": [
      "0\n"
     ]
    }
   ],
   "source": [
    "# debugging\n",
    "i = 0\n",
    "for key, item in da_flags.items():\n",
    "    if item:\n",
    "        continue\n",
    "    i += 1\n",
    "    print(key)\n",
    "print(i)"
   ]
  },
  {
   "cell_type": "markdown",
   "metadata": {},
   "source": [
    "### Test data (2017) statistics"
   ]
  },
  {
   "cell_type": "code",
   "execution_count": 35,
   "metadata": {},
   "outputs": [
    {
     "data": {
      "text/html": [
       "<div>\n",
       "<style scoped>\n",
       "    .dataframe tbody tr th:only-of-type {\n",
       "        vertical-align: middle;\n",
       "    }\n",
       "\n",
       "    .dataframe tbody tr th {\n",
       "        vertical-align: top;\n",
       "    }\n",
       "\n",
       "    .dataframe thead th {\n",
       "        text-align: right;\n",
       "    }\n",
       "</style>\n",
       "<table border=\"1\" class=\"dataframe\">\n",
       "  <thead>\n",
       "    <tr style=\"text-align: right;\">\n",
       "      <th></th>\n",
       "      <th>src</th>\n",
       "      <th>trg</th>\n",
       "      <th>set</th>\n",
       "      <th>source</th>\n",
       "      <th>reference</th>\n",
       "      <th>mt-system</th>\n",
       "      <th>human</th>\n",
       "    </tr>\n",
       "  </thead>\n",
       "  <tbody>\n",
       "    <tr>\n",
       "      <th>0</th>\n",
       "      <td>ru</td>\n",
       "      <td>en</td>\n",
       "      <td>newstest2017</td>\n",
       "      <td>В условиях санатория человек может проверить с...</td>\n",
       "      <td>in the setting of a health resort , a person c...</td>\n",
       "      <td>in the conditions of sanatorium employees can ...</td>\n",
       "      <td>-0.612352</td>\n",
       "    </tr>\n",
       "    <tr>\n",
       "      <th>1</th>\n",
       "      <td>ru</td>\n",
       "      <td>en</td>\n",
       "      <td>newstest2017</td>\n",
       "      <td>Так что не стоит бояться погоды за окном, тем ...</td>\n",
       "      <td>so , there &amp;apos;s no need to fear the weather...</td>\n",
       "      <td>so do not be afraid of the weather outside , e...</td>\n",
       "      <td>0.651127</td>\n",
       "    </tr>\n",
       "    <tr>\n",
       "      <th>2</th>\n",
       "      <td>ru</td>\n",
       "      <td>en</td>\n",
       "      <td>newstest2017</td>\n",
       "      <td>В июне показатель вырос на 1,7%.</td>\n",
       "      <td>in june , this figure rose by 1.7 % .</td>\n",
       "      <td>in june the indicator grew by 1.7 % .</td>\n",
       "      <td>0.540414</td>\n",
       "    </tr>\n",
       "    <tr>\n",
       "      <th>3</th>\n",
       "      <td>ru</td>\n",
       "      <td>en</td>\n",
       "      <td>newstest2017</td>\n",
       "      <td>До этого она, кстати, успела выиграть серебро ...</td>\n",
       "      <td>prior to this , in fact , she managed to win s...</td>\n",
       "      <td>prior to that , she managed to win silver at t...</td>\n",
       "      <td>0.739021</td>\n",
       "    </tr>\n",
       "    <tr>\n",
       "      <th>4</th>\n",
       "      <td>ru</td>\n",
       "      <td>en</td>\n",
       "      <td>newstest2017</td>\n",
       "      <td>Эмигрировав в США, она быстро вошла в юношеску...</td>\n",
       "      <td>having immigrated to the united states , she q...</td>\n",
       "      <td>emigrated to the us , she quickly entered in t...</td>\n",
       "      <td>-0.345920</td>\n",
       "    </tr>\n",
       "  </tbody>\n",
       "</table>\n",
       "</div>"
      ],
      "text/plain": [
       "  src trg           set                                             source  \\\n",
       "0  ru  en  newstest2017  В условиях санатория человек может проверить с...   \n",
       "1  ru  en  newstest2017  Так что не стоит бояться погоды за окном, тем ...   \n",
       "2  ru  en  newstest2017                   В июне показатель вырос на 1,7%.   \n",
       "3  ru  en  newstest2017  До этого она, кстати, успела выиграть серебро ...   \n",
       "4  ru  en  newstest2017  Эмигрировав в США, она быстро вошла в юношеску...   \n",
       "\n",
       "                                           reference  \\\n",
       "0  in the setting of a health resort , a person c...   \n",
       "1  so , there &apos;s no need to fear the weather...   \n",
       "2              in june , this figure rose by 1.7 % .   \n",
       "3  prior to this , in fact , she managed to win s...   \n",
       "4  having immigrated to the united states , she q...   \n",
       "\n",
       "                                           mt-system     human  \n",
       "0  in the conditions of sanatorium employees can ... -0.612352  \n",
       "1  so do not be afraid of the weather outside , e...  0.651127  \n",
       "2              in june the indicator grew by 1.7 % .  0.540414  \n",
       "3  prior to that , she managed to win silver at t...  0.739021  \n",
       "4  emigrated to the us , she quickly entered in t... -0.345920  "
      ]
     },
     "execution_count": 35,
     "metadata": {},
     "output_type": "execute_result"
    }
   ],
   "source": [
    "test = pd.DataFrame(data=data)\n",
    "test[['human']] = test[['human']].apply(pd.to_numeric)\n",
    "test.head()"
   ]
  },
  {
   "cell_type": "code",
   "execution_count": 36,
   "metadata": {},
   "outputs": [
    {
     "data": {
      "text/plain": [
       "<matplotlib.axes._subplots.AxesSubplot at 0x7fd3fceb6a90>"
      ]
     },
     "execution_count": 36,
     "metadata": {},
     "output_type": "execute_result"
    },
    {
     "data": {
      "image/png": "[encoded data removed]",
      "text/plain": [
       "<Figure size 432x288 with 1 Axes>"
      ]
     },
     "metadata": {
      "needs_background": "light"
     },
     "output_type": "display_data"
    }
   ],
   "source": [
    "test['trg'].value_counts().plot(kind='bar')"
   ]
  },
  {
   "cell_type": "code",
   "execution_count": 37,
   "metadata": {},
   "outputs": [
    {
     "data": {
      "text/plain": [
       "<matplotlib.axes._subplots.AxesSubplot at 0x7fd3fcf3b438>"
      ]
     },
     "execution_count": 37,
     "metadata": {},
     "output_type": "execute_result"
    },
    {
     "data": {
      "image/png": "[encoded data removed]",
      "text/plain": [
       "<Figure size 432x288 with 1 Axes>"
      ]
     },
     "metadata": {
      "needs_background": "light"
     },
     "output_type": "display_data"
    }
   ],
   "source": [
    "test['human'].hist()"
   ]
  },
  {
   "cell_type": "code",
   "execution_count": 38,
   "metadata": {},
   "outputs": [
    {
     "name": "stdout",
     "output_type": "stream",
     "text": [
      "tr    560\n",
      "ru    560\n",
      "cs    560\n",
      "fi    560\n",
      "zh    560\n",
      "de    560\n",
      "lv    560\n",
      "Name: src, dtype: int64\n",
      "3920\n"
     ]
    }
   ],
   "source": [
    "test_en = test[test.trg == 'en']\n",
    "print(test_en['src'].value_counts())\n",
    "print(len(test_en))"
   ]
  }
 ],
 "metadata": {
  "kernelspec": {
   "display_name": "Python 3",
   "language": "python",
   "name": "python3"
  },
  "language_info": {
   "codemirror_mode": {
    "name": "ipython",
    "version": 3
   },
   "file_extension": ".py",
   "mimetype": "text/x-python",
   "name": "python",
   "nbconvert_exporter": "python",
   "pygments_lexer": "ipython3",
   "version": "3.7.0"
  }
 },
 "nbformat": 4,
 "nbformat_minor": 2
}
